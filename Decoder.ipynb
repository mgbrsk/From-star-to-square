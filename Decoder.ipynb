{
 "cells": [
  {
   "cell_type": "code",
   "execution_count": 1,
   "metadata": {
    "collapsed": true
   },
   "outputs": [
    {
     "name": "stderr",
     "output_type": "stream",
     "text": [
      "Using TensorFlow backend.\n",
      "C:\\Users\\nonam\\anaconda3\\lib\\site-packages\\tensorflow\\python\\framework\\dtypes.py:516: FutureWarning: Passing (type, 1) or '1type' as a synonym of type is deprecated; in a future version of numpy, it will be understood as (type, (1,)) / '(1,)type'.\n",
      "  _np_qint8 = np.dtype([(\"qint8\", np.int8, 1)])\n",
      "C:\\Users\\nonam\\anaconda3\\lib\\site-packages\\tensorflow\\python\\framework\\dtypes.py:517: FutureWarning: Passing (type, 1) or '1type' as a synonym of type is deprecated; in a future version of numpy, it will be understood as (type, (1,)) / '(1,)type'.\n",
      "  _np_quint8 = np.dtype([(\"quint8\", np.uint8, 1)])\n",
      "C:\\Users\\nonam\\anaconda3\\lib\\site-packages\\tensorflow\\python\\framework\\dtypes.py:518: FutureWarning: Passing (type, 1) or '1type' as a synonym of type is deprecated; in a future version of numpy, it will be understood as (type, (1,)) / '(1,)type'.\n",
      "  _np_qint16 = np.dtype([(\"qint16\", np.int16, 1)])\n",
      "C:\\Users\\nonam\\anaconda3\\lib\\site-packages\\tensorflow\\python\\framework\\dtypes.py:519: FutureWarning: Passing (type, 1) or '1type' as a synonym of type is deprecated; in a future version of numpy, it will be understood as (type, (1,)) / '(1,)type'.\n",
      "  _np_quint16 = np.dtype([(\"quint16\", np.uint16, 1)])\n",
      "C:\\Users\\nonam\\anaconda3\\lib\\site-packages\\tensorflow\\python\\framework\\dtypes.py:520: FutureWarning: Passing (type, 1) or '1type' as a synonym of type is deprecated; in a future version of numpy, it will be understood as (type, (1,)) / '(1,)type'.\n",
      "  _np_qint32 = np.dtype([(\"qint32\", np.int32, 1)])\n",
      "C:\\Users\\nonam\\anaconda3\\lib\\site-packages\\tensorflow\\python\\framework\\dtypes.py:525: FutureWarning: Passing (type, 1) or '1type' as a synonym of type is deprecated; in a future version of numpy, it will be understood as (type, (1,)) / '(1,)type'.\n",
      "  np_resource = np.dtype([(\"resource\", np.ubyte, 1)])\n",
      "C:\\Users\\nonam\\anaconda3\\lib\\site-packages\\tensorboard\\compat\\tensorflow_stub\\dtypes.py:541: FutureWarning: Passing (type, 1) or '1type' as a synonym of type is deprecated; in a future version of numpy, it will be understood as (type, (1,)) / '(1,)type'.\n",
      "  _np_qint8 = np.dtype([(\"qint8\", np.int8, 1)])\n",
      "C:\\Users\\nonam\\anaconda3\\lib\\site-packages\\tensorboard\\compat\\tensorflow_stub\\dtypes.py:542: FutureWarning: Passing (type, 1) or '1type' as a synonym of type is deprecated; in a future version of numpy, it will be understood as (type, (1,)) / '(1,)type'.\n",
      "  _np_quint8 = np.dtype([(\"quint8\", np.uint8, 1)])\n",
      "C:\\Users\\nonam\\anaconda3\\lib\\site-packages\\tensorboard\\compat\\tensorflow_stub\\dtypes.py:543: FutureWarning: Passing (type, 1) or '1type' as a synonym of type is deprecated; in a future version of numpy, it will be understood as (type, (1,)) / '(1,)type'.\n",
      "  _np_qint16 = np.dtype([(\"qint16\", np.int16, 1)])\n",
      "C:\\Users\\nonam\\anaconda3\\lib\\site-packages\\tensorboard\\compat\\tensorflow_stub\\dtypes.py:544: FutureWarning: Passing (type, 1) or '1type' as a synonym of type is deprecated; in a future version of numpy, it will be understood as (type, (1,)) / '(1,)type'.\n",
      "  _np_quint16 = np.dtype([(\"quint16\", np.uint16, 1)])\n",
      "C:\\Users\\nonam\\anaconda3\\lib\\site-packages\\tensorboard\\compat\\tensorflow_stub\\dtypes.py:545: FutureWarning: Passing (type, 1) or '1type' as a synonym of type is deprecated; in a future version of numpy, it will be understood as (type, (1,)) / '(1,)type'.\n",
      "  _np_qint32 = np.dtype([(\"qint32\", np.int32, 1)])\n",
      "C:\\Users\\nonam\\anaconda3\\lib\\site-packages\\tensorboard\\compat\\tensorflow_stub\\dtypes.py:550: FutureWarning: Passing (type, 1) or '1type' as a synonym of type is deprecated; in a future version of numpy, it will be understood as (type, (1,)) / '(1,)type'.\n",
      "  np_resource = np.dtype([(\"resource\", np.ubyte, 1)])\n"
     ]
    }
   ],
   "source": [
    "%matplotlib inline\n",
    "from keras.preprocessing.image import load_img, img_to_array\n",
    "from keras.layers import Input, Dense, Flatten, Reshape\n",
    "from keras.models import Model\n",
    "import numpy as np\n",
    "from skimage.io import imread\n",
    "import seaborn as sns\n",
    "import matplotlib.pyplot as plt\n",
    "import warnings\n",
    "warnings.filterwarnings('ignore')"
   ]
  },
  {
   "cell_type": "code",
   "execution_count": 2,
   "metadata": {},
   "outputs": [],
   "source": [
    "# Загрузка изображений\n",
    "im = imread(\"square.bmp\")\n",
    "star = imread(\"star.bmp\")\n",
    "im_square = im / 255\n",
    "im_star = star / 255\n",
    "im_star_re = im_star.reshape(28,28, 1)\n",
    "im_square_re = im_square.reshape(28,28,1)\n",
    "\n",
    "# массив размерность 10000, 28, 28, 1, чередование нулей и единиц входных данных\n",
    "a = np.array([([0], [1])*5000]).reshape(10000, 1)\n",
    "# a.shape\n",
    "\n",
    "b = np.array((im_star_re, im_square_re)*5000)#.reshape(10000, 1)\n",
    "#b = b.reshape(7840000, 1)\n",
    "# b.shape"
   ]
  },
  {
   "cell_type": "code",
   "execution_count": 3,
   "metadata": {},
   "outputs": [],
   "source": [
    "def create_dense_ae():\n",
    "    encoding_dim = 49 # Размерность кодированного представления\n",
    "\n",
    "    # Энкодер\n",
    "    # Входной плейсхолдер\n",
    "    input_img = Input(shape=(1, 1)) # 28, 28, 1 - размерности строк, столбцов, фильтров одной картинки, без батч-размерности\n",
    "    # Вспомогательный слой решейпинга\n",
    "    flat_img = Flatten()(input_img)\n",
    "    # Кодированное полносвязным слоем представление\n",
    "    encoded = Dense(encoding_dim, activation='sigmoid')(flat_img)\n",
    "    \n",
    "    # Декодер\n",
    "    # Раскодированное другим полносвязным слоем изображение\n",
    "    input_encoded = Input(shape=(encoding_dim,))\n",
    "    flat_decoded = Dense(28*28, activation='sigmoid')(input_encoded)\n",
    "    decoded = Reshape((28, 28, 1))(flat_decoded)\n",
    "\n",
    "    # Модели, в конструктор первым аргументом передаются входные слои, а вторым выходные слои\n",
    "    # Другие модели можно так же использовать как и слои\n",
    "    encoder = Model(input_img, encoded, name=\"encoder\")\n",
    "    decoder = Model(input_encoded, decoded, name=\"decoder\")\n",
    "    autoencoder = Model(input_img, decoder(encoder(input_img)), name=\"autoencoder\")\n",
    "    return encoder, decoder, autoencoder"
   ]
  },
  {
   "cell_type": "code",
   "execution_count": 4,
   "metadata": {},
   "outputs": [
    {
     "name": "stdout",
     "output_type": "stream",
     "text": [
      "Model: \"autoencoder\"\n",
      "_________________________________________________________________\n",
      "Layer (type)                 Output Shape              Param #   \n",
      "=================================================================\n",
      "input_1 (InputLayer)         (None, 1, 1)              0         \n",
      "_________________________________________________________________\n",
      "encoder (Model)              (None, 49)                98        \n",
      "_________________________________________________________________\n",
      "decoder (Model)              (None, 28, 28, 1)         39200     \n",
      "=================================================================\n",
      "Total params: 39,298\n",
      "Trainable params: 39,298\n",
      "Non-trainable params: 0\n",
      "_________________________________________________________________\n"
     ]
    }
   ],
   "source": [
    "encoder, decoder, autoencoder = create_dense_ae()\n",
    "autoencoder.compile(optimizer='adam', loss='binary_crossentropy')\n",
    "autoencoder.summary()\n"
   ]
  },
  {
   "cell_type": "code",
   "execution_count": 5,
   "metadata": {
    "scrolled": true
   },
   "outputs": [
    {
     "name": "stdout",
     "output_type": "stream",
     "text": [
      "WARNING:tensorflow:From C:\\Users\\nonam\\anaconda3\\lib\\site-packages\\tensorflow\\python\\ops\\math_grad.py:1250: add_dispatch_support.<locals>.wrapper (from tensorflow.python.ops.array_ops) is deprecated and will be removed in a future version.\n",
      "Instructions for updating:\n",
      "Use tf.where in 2.0, which has the same broadcast rule as np.where\n",
      "WARNING:tensorflow:From C:\\Users\\nonam\\anaconda3\\lib\\site-packages\\keras\\backend\\tensorflow_backend.py:422: The name tf.global_variables is deprecated. Please use tf.compat.v1.global_variables instead.\n",
      "\n",
      "Train on 10000 samples, validate on 10000 samples\n",
      "Epoch 1/50\n",
      "10000/10000 [==============================] - 1s 122us/step - loss: 0.5207 - val_loss: 0.3654\n",
      "Epoch 2/50\n",
      "10000/10000 [==============================] - 1s 97us/step - loss: 0.2856 - val_loss: 0.2211\n",
      "Epoch 3/50\n",
      "10000/10000 [==============================] - 1s 101us/step - loss: 0.1883 - val_loss: 0.1604\n",
      "Epoch 4/50\n",
      "10000/10000 [==============================] - 1s 102us/step - loss: 0.1445 - val_loss: 0.1302\n",
      "Epoch 5/50\n",
      "10000/10000 [==============================] - 1s 92us/step - loss: 0.1211 - val_loss: 0.1123\n",
      "Epoch 6/50\n",
      "10000/10000 [==============================] - 1s 92us/step - loss: 0.1059 - val_loss: 0.0996\n",
      "Epoch 7/50\n",
      "10000/10000 [==============================] - 1s 104us/step - loss: 0.0945 - val_loss: 0.0893\n",
      "Epoch 8/50\n",
      "10000/10000 [==============================] - 1s 90us/step - loss: 0.0849 - val_loss: 0.0801\n",
      "Epoch 9/50\n",
      "10000/10000 [==============================] - 1s 90us/step - loss: 0.0760 - val_loss: 0.0715\n",
      "Epoch 10/50\n",
      "10000/10000 [==============================] - 1s 90us/step - loss: 0.0676 - val_loss: 0.0635\n",
      "Epoch 11/50\n",
      "10000/10000 [==============================] - 1s 95us/step - loss: 0.0598 - val_loss: 0.0559\n",
      "Epoch 12/50\n",
      "10000/10000 [==============================] - 1s 97us/step - loss: 0.0525 - val_loss: 0.0489\n",
      "Epoch 13/50\n",
      "10000/10000 [==============================] - 1s 97us/step - loss: 0.0458 - val_loss: 0.0425\n",
      "Epoch 14/50\n",
      "10000/10000 [==============================] - 1s 93us/step - loss: 0.0398 - val_loss: 0.0369\n",
      "Epoch 15/50\n",
      "10000/10000 [==============================] - 1s 93us/step - loss: 0.0345 - val_loss: 0.0320\n",
      "Epoch 16/50\n",
      "10000/10000 [==============================] - 1s 90us/step - loss: 0.0300 - val_loss: 0.0278\n",
      "Epoch 17/50\n",
      "10000/10000 [==============================] - 1s 91us/step - loss: 0.0261 - val_loss: 0.0242\n",
      "Epoch 18/50\n",
      "10000/10000 [==============================] - 1s 96us/step - loss: 0.0228 - val_loss: 0.0212\n",
      "Epoch 19/50\n",
      "10000/10000 [==============================] - 1s 89us/step - loss: 0.0199 - val_loss: 0.0186\n",
      "Epoch 20/50\n",
      "10000/10000 [==============================] - 1s 93us/step - loss: 0.0176 - val_loss: 0.0164\n",
      "Epoch 21/50\n",
      "10000/10000 [==============================] - 1s 95us/step - loss: 0.0155 - val_loss: 0.0146\n",
      "Epoch 22/50\n",
      "10000/10000 [==============================] - 1s 90us/step - loss: 0.0138 - val_loss: 0.0130\n",
      "Epoch 23/50\n",
      "10000/10000 [==============================] - 1s 94us/step - loss: 0.0124 - val_loss: 0.0117\n",
      "Epoch 24/50\n",
      "10000/10000 [==============================] - 1s 90us/step - loss: 0.0111 - val_loss: 0.0105\n",
      "Epoch 25/50\n",
      "10000/10000 [==============================] - 1s 90us/step - loss: 0.0100 - val_loss: 0.0095\n",
      "Epoch 26/50\n",
      "10000/10000 [==============================] - 1s 90us/step - loss: 0.0091 - val_loss: 0.0086\n",
      "Epoch 27/50\n",
      "10000/10000 [==============================] - 1s 94us/step - loss: 0.0083 - val_loss: 0.0079\n",
      "Epoch 28/50\n",
      "10000/10000 [==============================] - 1s 91us/step - loss: 0.0076 - val_loss: 0.0072\n",
      "Epoch 29/50\n",
      "10000/10000 [==============================] - 1s 113us/step - loss: 0.0069 - val_loss: 0.0066\n",
      "Epoch 30/50\n",
      "10000/10000 [==============================] - 1s 95us/step - loss: 0.0064 - val_loss: 0.0061\n",
      "Epoch 31/50\n",
      "10000/10000 [==============================] - 1s 96us/step - loss: 0.0059 - val_loss: 0.0057\n",
      "Epoch 32/50\n",
      "10000/10000 [==============================] - 1s 90us/step - loss: 0.0055 - val_loss: 0.0052\n",
      "Epoch 33/50\n",
      "10000/10000 [==============================] - 1s 92us/step - loss: 0.0051 - val_loss: 0.0049\n",
      "Epoch 34/50\n",
      "10000/10000 [==============================] - 1s 104us/step - loss: 0.0047 - val_loss: 0.0045\n",
      "Epoch 35/50\n",
      "10000/10000 [==============================] - 1s 99us/step - loss: 0.0044 - val_loss: 0.0042\n",
      "Epoch 36/50\n",
      "10000/10000 [==============================] - 1s 91us/step - loss: 0.0041 - val_loss: 0.0040\n",
      "Epoch 37/50\n",
      "10000/10000 [==============================] - 1s 97us/step - loss: 0.0039 - val_loss: 0.0037\n",
      "Epoch 38/50\n",
      "10000/10000 [==============================] - 1s 90us/step - loss: 0.0036 - val_loss: 0.0035\n",
      "Epoch 39/50\n",
      "10000/10000 [==============================] - 1s 92us/step - loss: 0.0034 - val_loss: 0.0033\n",
      "Epoch 40/50\n",
      "10000/10000 [==============================] - 1s 91us/step - loss: 0.0032 - val_loss: 0.0031\n",
      "Epoch 41/50\n",
      "10000/10000 [==============================] - 1s 90us/step - loss: 0.0030 - val_loss: 0.0029\n",
      "Epoch 42/50\n",
      "10000/10000 [==============================] - 1s 107us/step - loss: 0.0029 - val_loss: 0.0028\n",
      "Epoch 43/50\n",
      "10000/10000 [==============================] - 1s 134us/step - loss: 0.0027 - val_loss: 0.0026\n",
      "Epoch 44/50\n",
      "10000/10000 [==============================] - 2s 157us/step - loss: 0.0026 - val_loss: 0.0025\n",
      "Epoch 45/50\n",
      "10000/10000 [==============================] - 2s 161us/step - loss: 0.0024 - val_loss: 0.0024\n",
      "Epoch 46/50\n",
      "10000/10000 [==============================] - 1s 130us/step - loss: 0.0023 - val_loss: 0.0022\n",
      "Epoch 47/50\n",
      "10000/10000 [==============================] - 1s 120us/step - loss: 0.0022 - val_loss: 0.0021\n",
      "Epoch 48/50\n",
      "10000/10000 [==============================] - 1s 136us/step - loss: 0.0021 - val_loss: 0.0020\n",
      "Epoch 49/50\n",
      "10000/10000 [==============================] - 1s 136us/step - loss: 0.0020 - val_loss: 0.0019\n",
      "Epoch 50/50\n",
      "10000/10000 [==============================] - 1s 115us/step - loss: 0.0019 - val_loss: 0.0018\n"
     ]
    },
    {
     "data": {
      "text/plain": [
       "<keras.callbacks.callbacks.History at 0x15223b09e88>"
      ]
     },
     "execution_count": 5,
     "metadata": {},
     "output_type": "execute_result"
    }
   ],
   "source": [
    "autoencoder.fit(a.reshape(10000, 1, 1), b,\n",
    "                epochs=50,\n",
    "                batch_size=256,\n",
    "                shuffle=True,\n",
    "                 validation_data=(a.reshape(10000, 1, 1), b))\n",
    "               "
   ]
  },
  {
   "cell_type": "code",
   "execution_count": 13,
   "metadata": {},
   "outputs": [],
   "source": [
    "def plot_digits(*args):\n",
    "    args = [x.squeeze() for x in args]\n",
    "    n = min([x.shape[0] for x in args])\n",
    "    \n",
    "    plt.figure(figsize=(2*n, 2*len(args)))\n",
    "    for j in range(n):\n",
    "        for i in range(len(args)):\n",
    "            ax = plt.subplot(len(args), n, i*n + j + 1)\n",
    "            plt.imshow(args[i][j])\n",
    "            plt.gray()\n",
    "            ax.get_xaxis().set_visible(False)\n",
    "            ax.get_yaxis().set_visible(False)\n",
    "\n",
    "    plt.show()\n",
    "\n",
    "def single_plot_digits(args):\n",
    "    \n",
    "    #  Двумерный массив пикселей:\n",
    "    my_img = args[0].reshape(28, 28)\n",
    "    # my_img.shape\n",
    "\n",
    "    fig, ax = plt.subplots()\n",
    "\n",
    "    ax.imshow(my_img)\n",
    "\n",
    "    fig.set_figwidth(1)    #  ширина и\n",
    "    fig.set_figheight(1)    #  высота \"Figure\"\n",
    "    ax.get_xaxis().set_visible(False)\n",
    "    ax.get_yaxis().set_visible(False)\n",
    "    plt.show()"
   ]
  },
  {
   "cell_type": "code",
   "execution_count": 14,
   "metadata": {},
   "outputs": [
    {
     "data": {
      "image/png": "[encoded data removed]",
      "text/plain": [
       "<Figure size 72x72 with 1 Axes>"
      ]
     },
     "metadata": {
      "needs_background": "light"
     },
     "output_type": "display_data"
    },
    {
     "name": "stdout",
     "output_type": "stream",
     "text": [
      "None\n"
     ]
    },
    {
     "data": {
      "image/png": "[encoded data removed]",
      "text/plain": [
       "<Figure size 72x72 with 1 Axes>"
      ]
     },
     "metadata": {
      "needs_background": "light"
     },
     "output_type": "display_data"
    },
    {
     "name": "stdout",
     "output_type": "stream",
     "text": [
      "None\n"
     ]
    },
    {
     "data": {
      "image/png": "[encoded data removed]",
      "text/plain": [
       "<Figure size 72x72 with 1 Axes>"
      ]
     },
     "metadata": {
      "needs_background": "light"
     },
     "output_type": "display_data"
    },
    {
     "name": "stdout",
     "output_type": "stream",
     "text": [
      "None\n"
     ]
    },
    {
     "data": {
      "image/png": "[encoded data removed]",
      "text/plain": [
       "<Figure size 72x72 with 1 Axes>"
      ]
     },
     "metadata": {
      "needs_background": "light"
     },
     "output_type": "display_data"
    },
    {
     "name": "stdout",
     "output_type": "stream",
     "text": [
      "None\n"
     ]
    },
    {
     "data": {
      "image/png": "[encoded data removed]",
      "text/plain": [
       "<Figure size 72x72 with 1 Axes>"
      ]
     },
     "metadata": {
      "needs_background": "light"
     },
     "output_type": "display_data"
    },
    {
     "name": "stdout",
     "output_type": "stream",
     "text": [
      "None\n"
     ]
    },
    {
     "data": {
      "image/png": "[encoded data removed]",
      "text/plain": [
       "<Figure size 72x72 with 1 Axes>"
      ]
     },
     "metadata": {
      "needs_background": "light"
     },
     "output_type": "display_data"
    },
    {
     "name": "stdout",
     "output_type": "stream",
     "text": [
      "None\n"
     ]
    },
    {
     "data": {
      "image/png": "[encoded data removed]",
      "text/plain": [
       "<Figure size 72x72 with 1 Axes>"
      ]
     },
     "metadata": {
      "needs_background": "light"
     },
     "output_type": "display_data"
    },
    {
     "name": "stdout",
     "output_type": "stream",
     "text": [
      "None\n"
     ]
    },
    {
     "data": {
      "image/png": "[encoded data removed]",
      "text/plain": [
       "<Figure size 72x72 with 1 Axes>"
      ]
     },
     "metadata": {
      "needs_background": "light"
     },
     "output_type": "display_data"
    },
    {
     "name": "stdout",
     "output_type": "stream",
     "text": [
      "None\n"
     ]
    },
    {
     "data": {
      "image/png": "[encoded data removed]",
      "text/plain": [
       "<Figure size 72x72 with 1 Axes>"
      ]
     },
     "metadata": {
      "needs_background": "light"
     },
     "output_type": "display_data"
    },
    {
     "name": "stdout",
     "output_type": "stream",
     "text": [
      "None\n"
     ]
    },
    {
     "data": {
      "image/png": "[encoded data removed]",
      "text/plain": [
       "<Figure size 72x72 with 1 Axes>"
      ]
     },
     "metadata": {
      "needs_background": "light"
     },
     "output_type": "display_data"
    },
    {
     "name": "stdout",
     "output_type": "stream",
     "text": [
      "None\n"
     ]
    },
    {
     "data": {
      "image/png": "[encoded data removed]",
      "text/plain": [
       "<Figure size 72x72 with 1 Axes>"
      ]
     },
     "metadata": {
      "needs_background": "light"
     },
     "output_type": "display_data"
    },
    {
     "name": "stdout",
     "output_type": "stream",
     "text": [
      "None\n"
     ]
    }
   ],
   "source": [
    "def autoencoder_predict(p):\n",
    "    decoded_imgs = autoencoder.predict(np.array(p).reshape(1,1,1), batch_size=10)\n",
    "    single_plot_digits(decoded_imgs)\n",
    "p = 0\n",
    "while p <= 1:\n",
    "    print(autoencoder_predict(p))\n",
    "    p += 0.1\n"
   ]
  },
  {
   "cell_type": "code",
   "execution_count": null,
   "metadata": {},
   "outputs": [],
   "source": []
  }
 ],
 "metadata": {
  "kernelspec": {
   "display_name": "Python 3",
   "language": "python",
   "name": "python3"
  },
  "language_info": {
   "codemirror_mode": {
    "name": "ipython",
    "version": 3
   },
   "file_extension": ".py",
   "mimetype": "text/x-python",
   "name": "python",
   "nbconvert_exporter": "python",
   "pygments_lexer": "ipython3",
   "version": "3.7.6"
  }
 },
 "nbformat": 4,
 "nbformat_minor": 4
}
